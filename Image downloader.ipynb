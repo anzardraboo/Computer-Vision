{
 "cells": [
  {
   "cell_type": "code",
   "execution_count": 3,
   "metadata": {},
   "outputs": [],
   "source": [
    "import os"
   ]
  },
  {
   "cell_type": "code",
   "execution_count": 4,
   "metadata": {},
   "outputs": [
    {
     "name": "stdout",
     "output_type": "stream",
     "text": [
      "Requirement already satisfied: google_images_download in /anaconda3/envs/pyspace1/lib/python3.6/site-packages (2.8.0)\n",
      "Requirement already satisfied: selenium in /anaconda3/envs/pyspace1/lib/python3.6/site-packages (from google_images_download) (3.141.0)\n",
      "Requirement already satisfied: urllib3 in /anaconda3/envs/pyspace1/lib/python3.6/site-packages (from selenium->google_images_download) (1.22)\n",
      "\u001b[33mWARNING: You are using pip version 19.2.3, however version 19.3.1 is available.\n",
      "You should consider upgrading via the 'pip install --upgrade pip' command.\u001b[0m\n"
     ]
    }
   ],
   "source": [
    "!pip install google_images_download"
   ]
  },
  {
   "cell_type": "code",
   "execution_count": null,
   "metadata": {},
   "outputs": [],
   "source": [
    "# # images folder\n",
    "# dataset = os.path.join(currentDir, \"dataset\")\n",
    "# # paths to save pickle files\n",
    "# !mkdir output\n",
    "# !touch  /content/output/SimpleEmbeddings.pickle"
   ]
  },
  {
   "cell_type": "code",
   "execution_count": null,
   "metadata": {},
   "outputs": [
    {
     "name": "stdout",
     "output_type": "stream",
     "text": [
      "\n",
      "Item no.: 1 --> Item name = Potholes with mud\n",
      "Evaluating...\n",
      "Starting Download...\n",
      "Image URL: http://images.newindianexpress.com/uploads/user/imagelibrary/2018/9/26/w600X300/BBMP.jpg\n",
      "Completed Image ====> 1.BBMP.jpg\n",
      "Image URL: https://cimg0.ibsrv.net/cimg/www.doityourself.com/660x300_100-1/916/dirt-road-potholes-151916.jpg\n",
      "Completed Image ====> 2.dirt-road-potholes-151916.jpg\n",
      "Image URL: https://www.ezstreetasphalt.com/_/img/contractor/pothole-repair/contractor-pothole-1.jpg\n",
      "Completed Image ====> 3.contractor-pothole-1.jpg\n",
      "Image URL: https://www.mangalorean.com/wp-content/uploads/2019/07/PotholesCoal-Dust-Piles-of-Mud-Welcome-Visitors-to-Panambur-Beach-1.jpg\n",
      "Completed Image ====> 4.PotholesCoal-Dust-Piles-of-Mud-Welcome-Visitors-to-Panambur-Beach-1.jpg\n",
      "Image URL: https://www.mangalorean.com/wp-content/uploads/2019/07/PotholesCoal-Dust-Piles-of-Mud-Welcome-Visitors-to-Panambur-Beach-3.jpg\n",
      "Completed Image ====> 5.PotholesCoal-Dust-Piles-of-Mud-Welcome-Visitors-to-Panambur-Beach-3.jpg\n",
      "Image URL: http://images.newindianexpress.com/uploads/user/imagelibrary/2017/10/10/w600X300/POTHOLE.jpg\n",
      "Completed Image ====> 6.POTHOLE.jpg\n",
      "Image URL: https://static.toiimg.com/img/71998275/Master.jpg\n",
      "Completed Image ====> 7.Master.jpg\n",
      "Image URL: https://dynamicmedia.zuza.com/zz/m/original_/9/1/9155fecc-6a8d-4683-b276-b9187b1340cf/potholes_Super_Portrait.jpg\n",
      "Completed Image ====> 8.potholes_Super_Portrait.jpg\n",
      "Image URL: https://files.northernbeaches.nsw.gov.au/sites/default/files/styles/gi--main-thumbnail/public/images/general-information/roads-and-potholes/pothole.jpg?itok=05_o_AF4\n",
      "Completed Image ====> 9.pothole.jpg\n",
      "Image URL: https://amandawillmott.files.wordpress.com/2012/09/potholes.jpg\n",
      "Completed Image ====> 10.potholes.jpg\n",
      "Image URL: https://thumbs.dreamstime.com/b/bumpy-dirt-road-road-full-potholes-focus-foregrounds-horizontal-view-bumpy-dirt-road-road-full-potholes-150750866.jpg\n",
      "Completed Image ====> 11.bumpy-dirt-road-road-full-potholes-focus-foregrounds-horizontal-view-bumpy-dirt-road-road-full-potholes-150750866.jpg\n",
      "Image URL: https://www.safeco.com/insurance-content/blog/a-primer-on-potholes.jpg?v=2017032515444388\n",
      "IOError on an image...trying next one... Error: The read operation timed out\n",
      "Image URL: https://www.mangalorean.com/wp-content/uploads/2019/07/PotholesCoal-Dust-Piles-of-Mud-Welcome-Visitors-to-Panambur-Beach-7.jpg\n",
      "Completed Image ====> 12.PotholesCoal-Dust-Piles-of-Mud-Welcome-Visitors-to-Panambur-Beach-7.jpg\n",
      "Image URL: https://www.wthr.com/sites/default/files/styles/article_image/public/images/2019/02/05/42nd_hovenweep_pothole-970.jpg?itok=lY-7IkE5\n",
      "Completed Image ====> 13.42nd_hovenweep_pothole-970.jpg\n",
      "Image URL: https://dynamicmedia.zuza.com/zz/m/original_/9/e/9ec8e762-528c-42b5-9923-1a3e0ac5b0bc/BAR%20pothole%20season%202_Super_Portrait.jpg\n",
      "Completed Image ====> 14.BAR%20pothole%20season%202_Super_Portrait.jpg\n",
      "Image URL: https://todayscollision.com/wp-content/uploads/2019/03/GettyImages-601908512-845x321.jpg\n",
      "Completed Image ====> 15.GettyImages-601908512-845x321.jpg\n",
      "Image URL: https://296738.smushcdn.com/750729/wp-content/uploads/2018/03/Car-Pothole-500x250.jpg?size=500x250&lossy=1&strip=1&webp=1\n",
      "URLError on an image...trying next one... Error: HTTP Error 522: Connection Timed Out\n",
      "Image URL: https://www.wthr.com/sites/default/files/styles/article_image/public/images/2018/03/13/Potholes%20-%20Big%20bad%20pothole.jpg?itok=aYFzYh5q\n",
      "Completed Image ====> 16.Potholes%20-%20Big%20bad%20pothole.jpg\n",
      "Image URL: https://m.hindustantimes.com/rf/image_size_960x540/HT/p2/2017/07/21/Pictures/lucknow-thursday-lucknow-subhankar-chakraborty-hindustan-holes_b1f2934c-6e01-11e7-b16c-a4b2f1f7e553.jpg\n",
      "Completed Image ====> 17.lucknow-thursday-lucknow-subhankar-chakraborty-hindustan-holes_b1f2934c-6e01-11e7-b16c-a4b2f1f7e553.jpg\n",
      "Image URL: https://dynamicmedia.zuza.com/zz/m/original_/7/3/73a1cf59-634f-420c-930e-f0fb1bac0d81/Potholes%20Mar19_Super_Portrait.jpg\n",
      "Completed Image ====> 18.Potholes%20Mar19_Super_Portrait.jpg\n",
      "Image URL: https://cdn-ds.com/blogs-media/sites/137/2017/02/14081659/Potholes-Driveway-Blog-A_b.jpg\n",
      "Completed Image ====> 19.Potholes-Driveway-Blog-A_b.jpg\n",
      "Image URL: https://s3.ap-south-1.amazonaws.com/hansindia-bucket/potholes_6569.jpg\n",
      "Completed Image ====> 20.potholes_6569.jpg\n",
      "\n",
      "Errors: 2\n",
      "\n",
      "\n",
      "\n",
      "Item no.: 1 --> Item name = potholes without mud\n",
      "Evaluating...\n",
      "Starting Download...\n",
      "Image URL: https://www.ezstreetasphalt.com/_/img/contractor/pothole-repair/contractor-pothole-1.jpg\n",
      "Completed Image ====> 1.contractor-pothole-1.jpg\n",
      "Image URL: https://cimg0.ibsrv.net/cimg/www.doityourself.com/660x300_100-1/916/dirt-road-potholes-151916.jpg\n",
      "Completed Image ====> 2.dirt-road-potholes-151916.jpg\n",
      "Image URL: https://www.wthr.com/sites/default/files/styles/article_image/public/images/2019/02/05/42nd_hovenweep_pothole-970.jpg?itok=lY-7IkE5\n"
     ]
    }
   ],
   "source": [
    "# importing google_images_download module \n",
    "from google_images_download import google_images_download \n",
    "\n",
    "# creating object \n",
    "response = google_images_download.googleimagesdownload() \n",
    "\n",
    "search_queries =[ 'Potholes with mud', \"potholes without mud\"] \n",
    "\n",
    "\n",
    "def downloadimages(query): \n",
    "\t# keywords is the search query \n",
    "\t# format is the image file format \n",
    "\t# limit is the number of images to be downloaded \n",
    "\t# print urs is to print the image file url \n",
    "\t# size is the image size which can \n",
    "\t# be specified manually (\"large, medium, icon\") \n",
    "\t# aspect ratio denotes the height width ratio \n",
    "\t# of images to download. (\"tall, square, wide, panoramic\") \n",
    "\targuments = {\"keywords\": query, \n",
    "\t\t\t\t\"format\": \"jpg\", \n",
    "\t\t\t\t\"limit\":20, \n",
    "\t\t\t\t\"print_urls\":True, \n",
    "\t\t\t\t\"size\": \"medium\", \n",
    "\t\t\t\t\"aspect_ratio\": \"panoramic\"} \n",
    "\ttry: \n",
    "\t\tresponse.download(arguments) \n",
    "\t\n",
    "\t# Handling File NotFound Error\t \n",
    "\texcept FileNotFoundError: \n",
    "\t\targuments = {\"keywords\": query, \n",
    "\t\t\t\t\t\"format\": \"jpg\", \n",
    "\t\t\t\t\t\"limit\":20, \n",
    "\t\t\t\t\t\"print_urls\":True, \n",
    "\t\t\t\t\t\"size\": \"medium\"} \n",
    "\t\t\t\t\t\n",
    "\t\t# Providing arguments for the searched query \n",
    "\t\ttry: \n",
    "\t\t\t# Downloading the photos based \n",
    "\t\t\t# on the given arguments \n",
    "\t\t\tresponse.download(arguments) \n",
    "\t\texcept: \n",
    "\t\t\tpass\n",
    "\n",
    "# Driver Code \n",
    "for query in search_queries: \n",
    "\tdownloadimages(query) \n",
    "\tprint() \n"
   ]
  },
  {
   "cell_type": "code",
   "execution_count": null,
   "metadata": {},
   "outputs": [],
   "source": []
  }
 ],
 "metadata": {
  "kernelspec": {
   "display_name": "Python 3",
   "language": "python",
   "name": "python3"
  },
  "language_info": {
   "codemirror_mode": {
    "name": "ipython",
    "version": 3
   },
   "file_extension": ".py",
   "mimetype": "text/x-python",
   "name": "python",
   "nbconvert_exporter": "python",
   "pygments_lexer": "ipython3",
   "version": "3.6.5"
  }
 },
 "nbformat": 4,
 "nbformat_minor": 2
}
